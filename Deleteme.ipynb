{
    "nbformat_minor": 0,
    "cells": [
        {
            "cell_type": "code",
            "metadata": {
                "collapsed": true
            },
            "source": "",
            "execution_count": null,
            "outputs": []
        }
    ],
    "metadata": {
        "kernelspec": {
            "name": "python3",
            "display_name": "python3.8",
            "language": "python"
        }
    },
    "nbformat": 4
}
